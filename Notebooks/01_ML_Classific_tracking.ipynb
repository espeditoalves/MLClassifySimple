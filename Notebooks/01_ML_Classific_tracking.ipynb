{
 "cells": [
  {
   "cell_type": "markdown",
   "id": "fb8a5036",
   "metadata": {},
   "source": [
    "## **Projeto 1: tracking**"
   ]
  },
  {
   "cell_type": "markdown",
   "id": "eeaa12bd",
   "metadata": {},
   "source": [
    "### **Descrição**"
   ]
  },
  {
   "cell_type": "markdown",
   "id": "2c1243a6",
   "metadata": {},
   "source": [
    "Esse projeto conta com um  conjunto de dados já **tratados e preparados para treinamento e estudos** que registra o comportamento de usuários em um site de venda de ingressos para um evento de inteligência artificial. \n",
    "\n",
    "Cada linha do arquivo CSV representa uma pessoa, e cada coluna indica, com **1 (sim)** ou **0 (não)**, se ela acessou uma das cinco páginas do site:\n",
    "- página inicial\n",
    "- palestras\n",
    "- contato\n",
    "- compra \n",
    "- patrocínio.\n",
    "\n",
    "Nem todos os usuários começam pela página inicial, pois podem acessar diretamente links específicos, como o da página de contato."
   ]
  },
  {
   "cell_type": "markdown",
   "id": "cfb2eba5",
   "metadata": {},
   "source": [
    "As colunas, do conjunto de dados são **`inicial`**, **`palestra`**, **`contatos`**, **`comprou`** e **`patrocinio`**."
   ]
  },
  {
   "cell_type": "markdown",
   "id": "547fec72",
   "metadata": {},
   "source": [
    "## **Objetivo**"
   ]
  },
  {
   "cell_type": "markdown",
   "id": "67b6d069",
   "metadata": {},
   "source": [
    "O objetivo é `treinar` para tentar adivinhar **`se a pessoa vai ou não comprar`**, pois, se a pessoa `não for comprar`, o site poderia fazer aparecer no canto da página uma mensagem, como:\n",
    "\n",
    "- \"Olá! Gostaria de conversar conosco para entender se faz sentido você comprar o ingresso para o nosso evento?\".\n",
    "\n",
    "Essa ideia é muito interessante para o time de marketing e é importante mostrar esse anúncio somente se acharmos que a pessoa `não vai comprar`. Se ela vai comprar e exibimos um anúncio desse tipo na tela, podemos, inclusive, atrapalhar a navegação da pessoa. \n",
    "Portanto, é importante **`estimar se a pessoa vai comprar ou não`**."
   ]
  },
  {
   "cell_type": "markdown",
   "id": "fc385436",
   "metadata": {},
   "source": [
    "### Carrega Dados"
   ]
  },
  {
   "cell_type": "code",
   "execution_count": 1,
   "id": "0cd8cfb6",
   "metadata": {},
   "outputs": [
    {
     "data": {
      "text/html": [
       "<div>\n",
       "<style scoped>\n",
       "    .dataframe tbody tr th:only-of-type {\n",
       "        vertical-align: middle;\n",
       "    }\n",
       "\n",
       "    .dataframe tbody tr th {\n",
       "        vertical-align: top;\n",
       "    }\n",
       "\n",
       "    .dataframe thead th {\n",
       "        text-align: right;\n",
       "    }\n",
       "</style>\n",
       "<table border=\"1\" class=\"dataframe\">\n",
       "  <thead>\n",
       "    <tr style=\"text-align: right;\">\n",
       "      <th></th>\n",
       "      <th>inicial</th>\n",
       "      <th>palestras</th>\n",
       "      <th>contato</th>\n",
       "      <th>comprou</th>\n",
       "      <th>patrocinio</th>\n",
       "    </tr>\n",
       "  </thead>\n",
       "  <tbody>\n",
       "    <tr>\n",
       "      <th>0</th>\n",
       "      <td>1</td>\n",
       "      <td>1</td>\n",
       "      <td>0</td>\n",
       "      <td>0</td>\n",
       "      <td>0</td>\n",
       "    </tr>\n",
       "    <tr>\n",
       "      <th>1</th>\n",
       "      <td>1</td>\n",
       "      <td>1</td>\n",
       "      <td>0</td>\n",
       "      <td>0</td>\n",
       "      <td>0</td>\n",
       "    </tr>\n",
       "    <tr>\n",
       "      <th>2</th>\n",
       "      <td>1</td>\n",
       "      <td>1</td>\n",
       "      <td>0</td>\n",
       "      <td>0</td>\n",
       "      <td>0</td>\n",
       "    </tr>\n",
       "    <tr>\n",
       "      <th>3</th>\n",
       "      <td>1</td>\n",
       "      <td>1</td>\n",
       "      <td>0</td>\n",
       "      <td>0</td>\n",
       "      <td>0</td>\n",
       "    </tr>\n",
       "    <tr>\n",
       "      <th>4</th>\n",
       "      <td>1</td>\n",
       "      <td>1</td>\n",
       "      <td>0</td>\n",
       "      <td>0</td>\n",
       "      <td>0</td>\n",
       "    </tr>\n",
       "  </tbody>\n",
       "</table>\n",
       "</div>"
      ],
      "text/plain": [
       "   inicial  palestras  contato  comprou  patrocinio\n",
       "0        1          1        0        0           0\n",
       "1        1          1        0        0           0\n",
       "2        1          1        0        0           0\n",
       "3        1          1        0        0           0\n",
       "4        1          1        0        0           0"
      ]
     },
     "execution_count": 1,
     "metadata": {},
     "output_type": "execute_result"
    }
   ],
   "source": [
    "import pandas as pd\n",
    "import numpy as np\n",
    "\n",
    "# uri = \"https://gist.githubusercontent.com/guilhermesilveira/b9dd8e4b62b9e22ebcb9c8e89c271de4/raw/c69ec4b708fba03c445397b6a361db4345c83d7a/tracking.csv\"\n",
    "dados = pd.read_csv('../Data/tracking.csv', sep=',')\n",
    "dados.head()"
   ]
  },
  {
   "cell_type": "code",
   "execution_count": 2,
   "id": "b5887083",
   "metadata": {},
   "outputs": [
    {
     "name": "stdout",
     "output_type": "stream",
     "text": [
      "   inicial  palestras  contato  patrocinio\n",
      "0        1          1        0           0\n",
      "1        1          1        0           0\n",
      "2        1          1        0           0\n",
      "3        1          1        0           0\n",
      "4        1          1        0           0\n",
      "0    0\n",
      "1    0\n",
      "2    0\n",
      "3    0\n",
      "4    0\n",
      "Name: comprou, dtype: int64\n"
     ]
    }
   ],
   "source": [
    "y = dados[\"comprou\"]\n",
    "x = dados[[\"inicial\", \"palestras\",\t\"contato\",\t\"patrocinio\"]]\n",
    "print(x.head())\n",
    "print(y.head())"
   ]
  },
  {
   "cell_type": "code",
   "execution_count": 3,
   "id": "94b19c89",
   "metadata": {},
   "outputs": [
    {
     "data": {
      "text/plain": [
       "(99, 5)"
      ]
     },
     "execution_count": 3,
     "metadata": {},
     "output_type": "execute_result"
    }
   ],
   "source": [
    "dados.shape"
   ]
  },
  {
   "cell_type": "markdown",
   "id": "42f34e76",
   "metadata": {},
   "source": [
    "### Separando Treino e Teste"
   ]
  },
  {
   "cell_type": "code",
   "execution_count": 4,
   "id": "84e2c925",
   "metadata": {},
   "outputs": [
    {
     "name": "stdout",
     "output_type": "stream",
     "text": [
      "Treino com 74 elementos\n",
      "Teste com 25 elementos\n"
     ]
    }
   ],
   "source": [
    "from sklearn.model_selection import train_test_split\n",
    "\n",
    "seed = 62\n",
    "\n",
    "treino_x, teste_x, treino_y, teste_y = train_test_split(x, y, test_size=0.25, random_state=seed)\n",
    "\n",
    "print(f\"Treino com {len(treino_x)} elementos\")\n",
    "print(f\"Teste com {len(teste_x)} elementos\")"
   ]
  },
  {
   "cell_type": "code",
   "execution_count": 5,
   "id": "bc154bb4",
   "metadata": {},
   "outputs": [
    {
     "data": {
      "text/html": [
       "<div>\n",
       "<style scoped>\n",
       "    .dataframe tbody tr th:only-of-type {\n",
       "        vertical-align: middle;\n",
       "    }\n",
       "\n",
       "    .dataframe tbody tr th {\n",
       "        vertical-align: top;\n",
       "    }\n",
       "\n",
       "    .dataframe thead th {\n",
       "        text-align: right;\n",
       "    }\n",
       "</style>\n",
       "<table border=\"1\" class=\"dataframe\">\n",
       "  <thead>\n",
       "    <tr style=\"text-align: right;\">\n",
       "      <th></th>\n",
       "      <th>inicial</th>\n",
       "      <th>palestras</th>\n",
       "    </tr>\n",
       "  </thead>\n",
       "  <tbody>\n",
       "    <tr>\n",
       "      <th>95</th>\n",
       "      <td>1</td>\n",
       "      <td>1</td>\n",
       "    </tr>\n",
       "    <tr>\n",
       "      <th>33</th>\n",
       "      <td>1</td>\n",
       "      <td>0</td>\n",
       "    </tr>\n",
       "    <tr>\n",
       "      <th>48</th>\n",
       "      <td>1</td>\n",
       "      <td>1</td>\n",
       "    </tr>\n",
       "  </tbody>\n",
       "</table>\n",
       "</div>"
      ],
      "text/plain": [
       "    inicial  palestras\n",
       "95        1          1\n",
       "33        1          0\n",
       "48        1          1"
      ]
     },
     "execution_count": 5,
     "metadata": {},
     "output_type": "execute_result"
    }
   ],
   "source": [
    "# treino_x[0:3][['inicial', 'palestras']]\n",
    "treino_x.iloc[0:3, 0:2]"
   ]
  },
  {
   "cell_type": "markdown",
   "id": "b7c1fb98",
   "metadata": {},
   "source": [
    "### Treinando o modelo: LinearSVC"
   ]
  },
  {
   "cell_type": "code",
   "execution_count": 6,
   "id": "a2ec8133",
   "metadata": {},
   "outputs": [],
   "source": [
    "from sklearn.svm import LinearSVC\n",
    "\n",
    "modelo = LinearSVC()\n",
    "modelo.fit(X = treino_x, y = treino_y)\n",
    "previsoes = modelo.predict(teste_x) # previsões de 0 e 1\n",
    "probs = modelo.decision_function(teste_x) # \"probabilidade bruta\" (na verdade é distância)"
   ]
  },
  {
   "cell_type": "markdown",
   "id": "0c8b2d63",
   "metadata": {},
   "source": [
    "- O **LinearSVC** é baseado em SVM linear, mas não gera probabilidades diretamente.\n",
    "- Ele gera pontuações de decisão (não probabilidades).\n",
    "- Para pegar essas pontuações, você usa:\n",
    "\n",
    "```\n",
    "modelo.decision_function(teste_x)\n",
    "```\n",
    "Essa função (decision_function) retorna a distância até a fronteira de decisão:\n",
    "\n",
    "- Valores positivos → indicam classe 1,\n",
    "- Valores negativos → indicam classe 0,\n",
    "- Quanto maior o valor absoluto → maior a confiança."
   ]
  },
  {
   "cell_type": "code",
   "execution_count": 7,
   "id": "94bb0e58",
   "metadata": {},
   "outputs": [
    {
     "data": {
      "text/plain": [
       "{'C': 1.0,\n",
       " 'class_weight': None,\n",
       " 'dual': 'auto',\n",
       " 'fit_intercept': True,\n",
       " 'intercept_scaling': 1,\n",
       " 'loss': 'squared_hinge',\n",
       " 'max_iter': 1000,\n",
       " 'multi_class': 'ovr',\n",
       " 'penalty': 'l2',\n",
       " 'random_state': None,\n",
       " 'tol': 0.0001,\n",
       " 'verbose': 0}"
      ]
     },
     "execution_count": 7,
     "metadata": {},
     "output_type": "execute_result"
    }
   ],
   "source": [
    "modelo.get_params()\n"
   ]
  },
  {
   "cell_type": "code",
   "execution_count": 8,
   "id": "dbb4ec23",
   "metadata": {},
   "outputs": [
    {
     "data": {
      "text/html": [
       "<div>\n",
       "<style scoped>\n",
       "    .dataframe tbody tr th:only-of-type {\n",
       "        vertical-align: middle;\n",
       "    }\n",
       "\n",
       "    .dataframe tbody tr th {\n",
       "        vertical-align: top;\n",
       "    }\n",
       "\n",
       "    .dataframe thead th {\n",
       "        text-align: right;\n",
       "    }\n",
       "</style>\n",
       "<table border=\"1\" class=\"dataframe\">\n",
       "  <thead>\n",
       "    <tr style=\"text-align: right;\">\n",
       "      <th></th>\n",
       "      <th>inicial</th>\n",
       "      <th>palestras</th>\n",
       "      <th>contato</th>\n",
       "      <th>patrocinio</th>\n",
       "      <th>previsao</th>\n",
       "      <th>score</th>\n",
       "    </tr>\n",
       "  </thead>\n",
       "  <tbody>\n",
       "    <tr>\n",
       "      <th>75</th>\n",
       "      <td>0</td>\n",
       "      <td>1</td>\n",
       "      <td>0</td>\n",
       "      <td>0</td>\n",
       "      <td>0</td>\n",
       "      <td>-2.379312</td>\n",
       "    </tr>\n",
       "    <tr>\n",
       "      <th>60</th>\n",
       "      <td>1</td>\n",
       "      <td>0</td>\n",
       "      <td>1</td>\n",
       "      <td>0</td>\n",
       "      <td>1</td>\n",
       "      <td>0.863576</td>\n",
       "    </tr>\n",
       "    <tr>\n",
       "      <th>61</th>\n",
       "      <td>0</td>\n",
       "      <td>1</td>\n",
       "      <td>0</td>\n",
       "      <td>0</td>\n",
       "      <td>0</td>\n",
       "      <td>-2.379312</td>\n",
       "    </tr>\n",
       "    <tr>\n",
       "      <th>77</th>\n",
       "      <td>0</td>\n",
       "      <td>1</td>\n",
       "      <td>0</td>\n",
       "      <td>0</td>\n",
       "      <td>0</td>\n",
       "      <td>-2.379312</td>\n",
       "    </tr>\n",
       "    <tr>\n",
       "      <th>29</th>\n",
       "      <td>0</td>\n",
       "      <td>0</td>\n",
       "      <td>1</td>\n",
       "      <td>1</td>\n",
       "      <td>0</td>\n",
       "      <td>-0.844814</td>\n",
       "    </tr>\n",
       "  </tbody>\n",
       "</table>\n",
       "</div>"
      ],
      "text/plain": [
       "    inicial  palestras  contato  patrocinio  previsao     score\n",
       "75        0          1        0           0         0 -2.379312\n",
       "60        1          0        1           0         1  0.863576\n",
       "61        0          1        0           0         0 -2.379312\n",
       "77        0          1        0           0         0 -2.379312\n",
       "29        0          0        1           1         0 -0.844814"
      ]
     },
     "execution_count": 8,
     "metadata": {},
     "output_type": "execute_result"
    }
   ],
   "source": [
    "teste_x_previsoes = pd.DataFrame(data=teste_x)\n",
    "teste_x_previsoes[\"previsao\"] = previsoes\n",
    "teste_x_previsoes[\"score\"] = probs\n",
    "teste_x_previsoes.head()"
   ]
  },
  {
   "cell_type": "markdown",
   "id": "6124b243",
   "metadata": {},
   "source": [
    "### Avaliação do modelo: LinearSVC"
   ]
  },
  {
   "cell_type": "code",
   "execution_count": 9,
   "id": "9e8e5545",
   "metadata": {},
   "outputs": [
    {
     "name": "stdout",
     "output_type": "stream",
     "text": [
      "[[17  0]\n",
      " [ 0  8]]\n",
      "Verdadeiros negativos: 17\n",
      "Falsos positivos: 0\n",
      "Falsos negativos: 0\n",
      "Verdadeiros positivos: 8\n"
     ]
    }
   ],
   "source": [
    "from sklearn.metrics import confusion_matrix, accuracy_score, f1_score, precision_score, recall_score\n",
    "from sklearn.metrics import classification_report\n",
    "\n",
    "confusion = confusion_matrix(y_true=teste_y, y_pred=previsoes)\n",
    "print(confusion)\n",
    "tn, fp, fn, tp = confusion.ravel()\n",
    "print(f\"Verdadeiros negativos: {tn}\")\n",
    "print(f\"Falsos positivos: {fp}\")\n",
    "print(f\"Falsos negativos: {fn}\")\n",
    "print(f\"Verdadeiros positivos: {tp}\")"
   ]
  },
  {
   "cell_type": "code",
   "execution_count": 10,
   "id": "c8941d3f",
   "metadata": {},
   "outputs": [
    {
     "name": "stdout",
     "output_type": "stream",
     "text": [
      "Acurácia: 100.00%\n",
      "F1: 100.00%\n",
      "Precisão: 100.00%\n",
      "Recall: 100.00%\n",
      "              precision    recall  f1-score   support\n",
      "\n",
      "           0       1.00      1.00      1.00        17\n",
      "           1       1.00      1.00      1.00         8\n",
      "\n",
      "    accuracy                           1.00        25\n",
      "   macro avg       1.00      1.00      1.00        25\n",
      "weighted avg       1.00      1.00      1.00        25\n",
      "\n"
     ]
    }
   ],
   "source": [
    "acuracia = accuracy_score(\n",
    "    y_true=teste_y, \n",
    "    y_pred=previsoes) * 100\n",
    "\n",
    "f1 = f1_score(\n",
    "    y_true=teste_y, \n",
    "    y_pred=previsoes) * 100\n",
    "\n",
    "precision = precision_score(\n",
    "    y_true=teste_y, \n",
    "    y_pred=previsoes) * 100\n",
    "\n",
    "recall = recall_score(\n",
    "    y_true=teste_y, \n",
    "    y_pred=previsoes) * 100\n",
    "\n",
    "\n",
    "print(f\"Acurácia: {acuracia:.2f}%\")\n",
    "print(f\"F1: {f1:.2f}%\")\n",
    "print(f\"Precisão: {precision:.2f}%\")\n",
    "print(f\"Recall: {recall:.2f}%\")\n",
    "print(classification_report(y_true=teste_y, y_pred=previsoes))"
   ]
  },
  {
   "cell_type": "markdown",
   "id": "eab0fb58",
   "metadata": {},
   "source": [
    "### Treinando o modelo: SVC(probability=True) "
   ]
  },
  {
   "cell_type": "markdown",
   "id": "302cb530",
   "metadata": {},
   "source": [
    "**Se precisamos de probabilidades, tem dois caminhos:**\n",
    "\n",
    "1. Usar outro modelo que suporta predict_proba, como:\n",
    "\n",
    "- LogisticRegression\n",
    "- RandomForestClassifier\n",
    "- GradientBoostingClassifier\n",
    "\n",
    "Ou, se continuar com **SVM**, usar **SVC(probability=True) em vez de LinearSVC**.\n"
   ]
  },
  {
   "cell_type": "code",
   "execution_count": 11,
   "id": "701ccdac",
   "metadata": {},
   "outputs": [
    {
     "name": "stdout",
     "output_type": "stream",
     "text": [
      "[0 1 0 0 0 0 0 0 1 1 0 0 1 1 1 0 0 0 0 1 0 0 0 1 0]\n",
      "[[0.93758385 0.06241615]\n",
      " [0.02696593 0.97303407]\n",
      " [0.93758385 0.06241615]\n",
      " [0.93758385 0.06241615]\n",
      " [0.93743186 0.06256814]\n",
      " [0.90938733 0.09061267]\n",
      " [0.93759498 0.06240502]\n",
      " [0.93743186 0.06256814]\n",
      " [0.02696593 0.97303407]\n",
      " [0.02696593 0.97303407]\n",
      " [0.93759498 0.06240502]\n",
      " [0.9374879  0.0625121 ]\n",
      " [0.02696593 0.97303407]\n",
      " [0.02696593 0.97303407]\n",
      " [0.02696593 0.97303407]\n",
      " [0.93758385 0.06241615]\n",
      " [0.93759498 0.06240502]\n",
      " [0.9374879  0.0625121 ]\n",
      " [0.9374879  0.0625121 ]\n",
      " [0.02696593 0.97303407]\n",
      " [0.9374879  0.0625121 ]\n",
      " [0.93759498 0.06240502]\n",
      " [0.93759498 0.06240502]\n",
      " [0.02696593 0.97303407]\n",
      " [0.93759498 0.06240502]]\n"
     ]
    }
   ],
   "source": [
    "from sklearn.svm import SVC\n",
    "modelo_svm = SVC(probability=True)\n",
    "modelo_svm.fit(treino_x, treino_y)\n",
    "previsoes_svm = modelo_svm.predict(teste_x) # previsões de 0 e 1\n",
    "probs_svm = modelo_svm.predict_proba(teste_x) \n",
    "\n",
    "print(previsoes_svm)\n",
    "print(probs_svm)"
   ]
  },
  {
   "cell_type": "code",
   "execution_count": 12,
   "id": "e625f444",
   "metadata": {},
   "outputs": [
    {
     "data": {
      "text/html": [
       "<div>\n",
       "<style scoped>\n",
       "    .dataframe tbody tr th:only-of-type {\n",
       "        vertical-align: middle;\n",
       "    }\n",
       "\n",
       "    .dataframe tbody tr th {\n",
       "        vertical-align: top;\n",
       "    }\n",
       "\n",
       "    .dataframe thead th {\n",
       "        text-align: right;\n",
       "    }\n",
       "</style>\n",
       "<table border=\"1\" class=\"dataframe\">\n",
       "  <thead>\n",
       "    <tr style=\"text-align: right;\">\n",
       "      <th></th>\n",
       "      <th>inicial</th>\n",
       "      <th>palestras</th>\n",
       "      <th>contato</th>\n",
       "      <th>patrocinio</th>\n",
       "      <th>previsao</th>\n",
       "      <th>score</th>\n",
       "      <th>previsao_svm</th>\n",
       "      <th>score_svm</th>\n",
       "    </tr>\n",
       "  </thead>\n",
       "  <tbody>\n",
       "    <tr>\n",
       "      <th>75</th>\n",
       "      <td>0</td>\n",
       "      <td>1</td>\n",
       "      <td>0</td>\n",
       "      <td>0</td>\n",
       "      <td>0</td>\n",
       "      <td>-2.379312</td>\n",
       "      <td>0</td>\n",
       "      <td>0.062416</td>\n",
       "    </tr>\n",
       "    <tr>\n",
       "      <th>60</th>\n",
       "      <td>1</td>\n",
       "      <td>0</td>\n",
       "      <td>1</td>\n",
       "      <td>0</td>\n",
       "      <td>1</td>\n",
       "      <td>0.863576</td>\n",
       "      <td>1</td>\n",
       "      <td>0.973034</td>\n",
       "    </tr>\n",
       "    <tr>\n",
       "      <th>61</th>\n",
       "      <td>0</td>\n",
       "      <td>1</td>\n",
       "      <td>0</td>\n",
       "      <td>0</td>\n",
       "      <td>0</td>\n",
       "      <td>-2.379312</td>\n",
       "      <td>0</td>\n",
       "      <td>0.062416</td>\n",
       "    </tr>\n",
       "    <tr>\n",
       "      <th>77</th>\n",
       "      <td>0</td>\n",
       "      <td>1</td>\n",
       "      <td>0</td>\n",
       "      <td>0</td>\n",
       "      <td>0</td>\n",
       "      <td>-2.379312</td>\n",
       "      <td>0</td>\n",
       "      <td>0.062416</td>\n",
       "    </tr>\n",
       "    <tr>\n",
       "      <th>29</th>\n",
       "      <td>0</td>\n",
       "      <td>0</td>\n",
       "      <td>1</td>\n",
       "      <td>1</td>\n",
       "      <td>0</td>\n",
       "      <td>-0.844814</td>\n",
       "      <td>0</td>\n",
       "      <td>0.062568</td>\n",
       "    </tr>\n",
       "  </tbody>\n",
       "</table>\n",
       "</div>"
      ],
      "text/plain": [
       "    inicial  palestras  contato  patrocinio  previsao     score  previsao_svm  \\\n",
       "75        0          1        0           0         0 -2.379312             0   \n",
       "60        1          0        1           0         1  0.863576             1   \n",
       "61        0          1        0           0         0 -2.379312             0   \n",
       "77        0          1        0           0         0 -2.379312             0   \n",
       "29        0          0        1           1         0 -0.844814             0   \n",
       "\n",
       "    score_svm  \n",
       "75   0.062416  \n",
       "60   0.973034  \n",
       "61   0.062416  \n",
       "77   0.062416  \n",
       "29   0.062568  "
      ]
     },
     "execution_count": 12,
     "metadata": {},
     "output_type": "execute_result"
    }
   ],
   "source": [
    "teste_x_previsoes[\"previsao_svm\"] = previsoes_svm\n",
    "teste_x_previsoes[\"score_svm\"] = probs_svm[:, 1] # pega a probabilidade de 1 (comprou)\n",
    "teste_x_previsoes.head()"
   ]
  },
  {
   "cell_type": "markdown",
   "id": "83368cbe",
   "metadata": {},
   "source": [
    "### Avaliando o modelo: SVC(probability=True) "
   ]
  },
  {
   "cell_type": "code",
   "execution_count": 13,
   "id": "110e7dd0",
   "metadata": {},
   "outputs": [
    {
     "name": "stdout",
     "output_type": "stream",
     "text": [
      "[[17  0]\n",
      " [ 0  8]]\n",
      "Verdadeiros negativos: 17\n",
      "Falsos positivos: 0\n",
      "Falsos negativos: 0\n",
      "Verdadeiros positivos: 8\n"
     ]
    }
   ],
   "source": [
    "from sklearn.metrics import confusion_matrix, ConfusionMatrixDisplay\n",
    "from sklearn.metrics import classification_report, accuracy_score, f1_score, precision_score, recall_score\n",
    "\n",
    "confusion = confusion_matrix(y_true=teste_y, y_pred=previsoes, labels=[0, 1])\n",
    "print(confusion)\n",
    "tn, fp, fn, tp = confusion.ravel()\n",
    "print(f\"Verdadeiros negativos: {tn}\")\n",
    "print(f\"Falsos positivos: {fp}\")\n",
    "print(f\"Falsos negativos: {fn}\")\n",
    "print(f\"Verdadeiros positivos: {tp}\")"
   ]
  },
  {
   "cell_type": "code",
   "execution_count": 14,
   "id": "4cd643f4",
   "metadata": {},
   "outputs": [
    {
     "data": {
      "image/png": "[encoded data removed]",
      "text/plain": [
       "<Figure size 640x480 with 2 Axes>"
      ]
     },
     "metadata": {},
     "output_type": "display_data"
    }
   ],
   "source": [
    "import numpy as np\n",
    "import matplotlib.pyplot as plt\n",
    "import seaborn as sns\n",
    "# Geração dos rótulos personalizados\n",
    "group_names = [\n",
    "    f\"True Negative: {tn}\",  f\"False Positive: {fp}\",\n",
    "    f\"False Negative: {fn}\", f\"True Positive: {tp}\"\n",
    "]\n",
    "labels = np.asarray(group_names).reshape(2, 2)\n",
    "\n",
    "# Plotando com seaborn\n",
    "sns.heatmap(confusion,\n",
    "            annot=labels,\n",
    "            fmt='',\n",
    "            cmap='Blues',\n",
    "            xticklabels=[\"0\", \"1\"],\n",
    "            yticklabels=[\"0\", \"1\"])\n",
    "# Títulos dos eixos\n",
    "plt.xlabel('Predicted label')\n",
    "plt.ylabel('True label')\n",
    "plt.title('confusion matrix (TP, FP, FN, TN)')\n",
    "plt.show()"
   ]
  },
  {
   "cell_type": "code",
   "execution_count": 15,
   "id": "62d73d8d",
   "metadata": {},
   "outputs": [
    {
     "name": "stdout",
     "output_type": "stream",
     "text": [
      "AUC: 1.00\n"
     ]
    }
   ],
   "source": [
    "from sklearn.metrics import roc_auc_score, roc_curve\n",
    "import matplotlib.pyplot as plt\n",
    "\n",
    "# Calcular as taxas de falso positivo e verdadeiro positivo\n",
    "fpr, tpr, thresholds = roc_curve(y_true=teste_y, y_score=probs_svm[:, 1])\n",
    "\n",
    "# Calcular a AUC (area sob a curva)\n",
    "auc = roc_auc_score(y_true=teste_y, y_score=probs_svm[:, 1])\n",
    "print(f\"AUC: {auc:.2f}\")"
   ]
  },
  {
   "cell_type": "code",
   "execution_count": 16,
   "id": "86a9c996",
   "metadata": {},
   "outputs": [
    {
     "data": {
      "image/png": "[encoded data removed]",
      "text/plain": [
       "<Figure size 640x480 with 1 Axes>"
      ]
     },
     "metadata": {},
     "output_type": "display_data"
    }
   ],
   "source": [
    "# Criar o gráfico\n",
    "plt.figure()\n",
    "plt.plot(fpr, tpr, label=f'ROC curve (AUC = {auc:.2f})')\n",
    "plt.plot([0, 1], [0, 1], 'k--')  # linha diagonal\n",
    "plt.xlabel('False Positive Rate (FPR)')\n",
    "plt.ylabel('True Positive Rate (TPR)')\n",
    "plt.title('Receiver Operating Characteristic (ROC)')\n",
    "plt.legend(loc='lower right')\n",
    "plt.grid()\n",
    "plt.show()\n"
   ]
  }
 ],
 "metadata": {
  "kernelspec": {
   "display_name": "mlclassifysimple-g5DC7D5t-py3.11",
   "language": "python",
   "name": "python3"
  },
  "language_info": {
   "codemirror_mode": {
    "name": "ipython",
    "version": 3
   },
   "file_extension": ".py",
   "mimetype": "text/x-python",
   "name": "python",
   "nbconvert_exporter": "python",
   "pygments_lexer": "ipython3",
   "version": "3.11.0"
  }
 },
 "nbformat": 4,
 "nbformat_minor": 5
}

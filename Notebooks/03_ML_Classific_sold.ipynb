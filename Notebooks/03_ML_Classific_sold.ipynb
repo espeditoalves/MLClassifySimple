{
 "cells": [
  {
   "cell_type": "markdown",
   "id": "ba571805",
   "metadata": {},
   "source": [
    "## **Projeto 3 - Prevendo a venda de um carro**"
   ]
  },
  {
   "cell_type": "markdown",
   "id": "508c9741",
   "metadata": {},
   "source": [
    "Trata-se de um banco de dados fictício em que cada linha representa um carro à venda em uma loja online. \n",
    "Os carros são de diversos donos diferentes, e alguns desses carros foram vendidos e outros não. \n",
    "\n",
    "\n",
    "A coluna **`Vendido`** representa os carros que foram ou não vendidos: \"1\" para os vendidos e \"0\" para os não. \n",
    "Temos três features para cada um dos carros:\n",
    "- **`milhas_por_ano`** representa quantas milhas o carro fez por ano\n",
    "- **`ano_do_modelo`** representa o ano de cada modelo (que é diferente do ano de fabricação)\n",
    "- **`preco`** o preço de venda cada carro.\n",
    "\n",
    "\n",
    "## **Objeto**\n",
    "\n",
    "De acordo com estas variáveis, tentarei classificar se um carro será vendido ou não. \n",
    "Pensando no negócio da empresa, com esse tipo de informação, ela poderia ajudar seus clientes a concretizar sua venda, criando condições mais atrativas para possíveis compradores com base em dados reais e de acordo com as características de cada carro.\n",
    "\n",
    "Abaixo os cinco primeiros carros da tabela."
   ]
  },
  {
   "cell_type": "code",
   "execution_count": 1,
   "id": "ac73a61d",
   "metadata": {},
   "outputs": [
    {
     "data": {
      "text/html": [
       "<div>\n",
       "<style scoped>\n",
       "    .dataframe tbody tr th:only-of-type {\n",
       "        vertical-align: middle;\n",
       "    }\n",
       "\n",
       "    .dataframe tbody tr th {\n",
       "        vertical-align: top;\n",
       "    }\n",
       "\n",
       "    .dataframe thead th {\n",
       "        text-align: right;\n",
       "    }\n",
       "</style>\n",
       "<table border=\"1\" class=\"dataframe\">\n",
       "  <thead>\n",
       "    <tr style=\"text-align: right;\">\n",
       "      <th></th>\n",
       "      <th>milhas_por_ano</th>\n",
       "      <th>ano_do_modelo</th>\n",
       "      <th>preco</th>\n",
       "      <th>vendido</th>\n",
       "    </tr>\n",
       "  </thead>\n",
       "  <tbody>\n",
       "    <tr>\n",
       "      <th>0</th>\n",
       "      <td>21801</td>\n",
       "      <td>2000</td>\n",
       "      <td>30941.02</td>\n",
       "      <td>1</td>\n",
       "    </tr>\n",
       "    <tr>\n",
       "      <th>1</th>\n",
       "      <td>7843</td>\n",
       "      <td>1998</td>\n",
       "      <td>40557.96</td>\n",
       "      <td>1</td>\n",
       "    </tr>\n",
       "    <tr>\n",
       "      <th>2</th>\n",
       "      <td>7109</td>\n",
       "      <td>2006</td>\n",
       "      <td>89627.50</td>\n",
       "      <td>0</td>\n",
       "    </tr>\n",
       "    <tr>\n",
       "      <th>3</th>\n",
       "      <td>26823</td>\n",
       "      <td>2015</td>\n",
       "      <td>95276.14</td>\n",
       "      <td>0</td>\n",
       "    </tr>\n",
       "    <tr>\n",
       "      <th>4</th>\n",
       "      <td>7935</td>\n",
       "      <td>2014</td>\n",
       "      <td>117384.68</td>\n",
       "      <td>1</td>\n",
       "    </tr>\n",
       "  </tbody>\n",
       "</table>\n",
       "</div>"
      ],
      "text/plain": [
       "   milhas_por_ano  ano_do_modelo      preco  vendido\n",
       "0           21801           2000   30941.02        1\n",
       "1            7843           1998   40557.96        1\n",
       "2            7109           2006   89627.50        0\n",
       "3           26823           2015   95276.14        0\n",
       "4            7935           2014  117384.68        1"
      ]
     },
     "execution_count": 1,
     "metadata": {},
     "output_type": "execute_result"
    }
   ],
   "source": [
    "import pandas as pd\n",
    "\n",
    "# dados = pd.read_csv(\"https://gist.githubusercontent.com/guilhermesilveira/dd7ba8142321c2c8aaa0ddd6c8862fcc/raw/e694a9b43bae4d52b6c990a5654a193c3f870750/precos.csv\")\n",
    "dados = pd.read_csv(\"../Data/precos.csv\")\n",
    "dados.head()"
   ]
  },
  {
   "cell_type": "code",
   "execution_count": 2,
   "id": "51c1289b",
   "metadata": {},
   "outputs": [
    {
     "data": {
      "text/html": [
       "<div>\n",
       "<style scoped>\n",
       "    .dataframe tbody tr th:only-of-type {\n",
       "        vertical-align: middle;\n",
       "    }\n",
       "\n",
       "    .dataframe tbody tr th {\n",
       "        vertical-align: top;\n",
       "    }\n",
       "\n",
       "    .dataframe thead th {\n",
       "        text-align: right;\n",
       "    }\n",
       "</style>\n",
       "<table border=\"1\" class=\"dataframe\">\n",
       "  <thead>\n",
       "    <tr style=\"text-align: right;\">\n",
       "      <th></th>\n",
       "      <th>milhas_por_ano</th>\n",
       "      <th>ano_do_modelo</th>\n",
       "      <th>preco</th>\n",
       "      <th>vendido</th>\n",
       "      <th>km_por_ano</th>\n",
       "    </tr>\n",
       "  </thead>\n",
       "  <tbody>\n",
       "    <tr>\n",
       "      <th>0</th>\n",
       "      <td>21801</td>\n",
       "      <td>2000</td>\n",
       "      <td>30941.02</td>\n",
       "      <td>1</td>\n",
       "      <td>35085.22134</td>\n",
       "    </tr>\n",
       "    <tr>\n",
       "      <th>1</th>\n",
       "      <td>7843</td>\n",
       "      <td>1998</td>\n",
       "      <td>40557.96</td>\n",
       "      <td>1</td>\n",
       "      <td>12622.05362</td>\n",
       "    </tr>\n",
       "    <tr>\n",
       "      <th>2</th>\n",
       "      <td>7109</td>\n",
       "      <td>2006</td>\n",
       "      <td>89627.50</td>\n",
       "      <td>0</td>\n",
       "      <td>11440.79806</td>\n",
       "    </tr>\n",
       "    <tr>\n",
       "      <th>3</th>\n",
       "      <td>26823</td>\n",
       "      <td>2015</td>\n",
       "      <td>95276.14</td>\n",
       "      <td>0</td>\n",
       "      <td>43167.32682</td>\n",
       "    </tr>\n",
       "    <tr>\n",
       "      <th>4</th>\n",
       "      <td>7935</td>\n",
       "      <td>2014</td>\n",
       "      <td>117384.68</td>\n",
       "      <td>1</td>\n",
       "      <td>12770.11290</td>\n",
       "    </tr>\n",
       "  </tbody>\n",
       "</table>\n",
       "</div>"
      ],
      "text/plain": [
       "   milhas_por_ano  ano_do_modelo      preco  vendido   km_por_ano\n",
       "0           21801           2000   30941.02        1  35085.22134\n",
       "1            7843           1998   40557.96        1  12622.05362\n",
       "2            7109           2006   89627.50        0  11440.79806\n",
       "3           26823           2015   95276.14        0  43167.32682\n",
       "4            7935           2014  117384.68        1  12770.11290"
      ]
     },
     "execution_count": 2,
     "metadata": {},
     "output_type": "execute_result"
    }
   ],
   "source": [
    "dados[\"km_por_ano\"] = dados[\"milhas_por_ano\"] * 1.60934\n",
    "dados.head()"
   ]
  },
  {
   "cell_type": "code",
   "execution_count": 3,
   "id": "3b7884af",
   "metadata": {},
   "outputs": [
    {
     "data": {
      "text/html": [
       "<div>\n",
       "<style scoped>\n",
       "    .dataframe tbody tr th:only-of-type {\n",
       "        vertical-align: middle;\n",
       "    }\n",
       "\n",
       "    .dataframe tbody tr th {\n",
       "        vertical-align: top;\n",
       "    }\n",
       "\n",
       "    .dataframe thead th {\n",
       "        text-align: right;\n",
       "    }\n",
       "</style>\n",
       "<table border=\"1\" class=\"dataframe\">\n",
       "  <thead>\n",
       "    <tr style=\"text-align: right;\">\n",
       "      <th></th>\n",
       "      <th>milhas_por_ano</th>\n",
       "      <th>ano_do_modelo</th>\n",
       "      <th>preco</th>\n",
       "      <th>vendido</th>\n",
       "      <th>km_por_ano</th>\n",
       "      <th>idade</th>\n",
       "    </tr>\n",
       "  </thead>\n",
       "  <tbody>\n",
       "    <tr>\n",
       "      <th>0</th>\n",
       "      <td>21801</td>\n",
       "      <td>2000</td>\n",
       "      <td>30941.02</td>\n",
       "      <td>1</td>\n",
       "      <td>35085.22134</td>\n",
       "      <td>25</td>\n",
       "    </tr>\n",
       "    <tr>\n",
       "      <th>1</th>\n",
       "      <td>7843</td>\n",
       "      <td>1998</td>\n",
       "      <td>40557.96</td>\n",
       "      <td>1</td>\n",
       "      <td>12622.05362</td>\n",
       "      <td>27</td>\n",
       "    </tr>\n",
       "    <tr>\n",
       "      <th>2</th>\n",
       "      <td>7109</td>\n",
       "      <td>2006</td>\n",
       "      <td>89627.50</td>\n",
       "      <td>0</td>\n",
       "      <td>11440.79806</td>\n",
       "      <td>19</td>\n",
       "    </tr>\n",
       "    <tr>\n",
       "      <th>3</th>\n",
       "      <td>26823</td>\n",
       "      <td>2015</td>\n",
       "      <td>95276.14</td>\n",
       "      <td>0</td>\n",
       "      <td>43167.32682</td>\n",
       "      <td>10</td>\n",
       "    </tr>\n",
       "    <tr>\n",
       "      <th>4</th>\n",
       "      <td>7935</td>\n",
       "      <td>2014</td>\n",
       "      <td>117384.68</td>\n",
       "      <td>1</td>\n",
       "      <td>12770.11290</td>\n",
       "      <td>11</td>\n",
       "    </tr>\n",
       "  </tbody>\n",
       "</table>\n",
       "</div>"
      ],
      "text/plain": [
       "   milhas_por_ano  ano_do_modelo      preco  vendido   km_por_ano  idade\n",
       "0           21801           2000   30941.02        1  35085.22134     25\n",
       "1            7843           1998   40557.96        1  12622.05362     27\n",
       "2            7109           2006   89627.50        0  11440.79806     19\n",
       "3           26823           2015   95276.14        0  43167.32682     10\n",
       "4            7935           2014  117384.68        1  12770.11290     11"
      ]
     },
     "execution_count": 3,
     "metadata": {},
     "output_type": "execute_result"
    }
   ],
   "source": [
    "from datetime import datetime\n",
    "dados[\"idade\"] = datetime.today().year - dados['ano_do_modelo']\n",
    "dados.head()"
   ]
  },
  {
   "cell_type": "code",
   "execution_count": 4,
   "id": "0c7f265c",
   "metadata": {},
   "outputs": [
    {
     "data": {
      "text/html": [
       "<div>\n",
       "<style scoped>\n",
       "    .dataframe tbody tr th:only-of-type {\n",
       "        vertical-align: middle;\n",
       "    }\n",
       "\n",
       "    .dataframe tbody tr th {\n",
       "        vertical-align: top;\n",
       "    }\n",
       "\n",
       "    .dataframe thead th {\n",
       "        text-align: right;\n",
       "    }\n",
       "</style>\n",
       "<table border=\"1\" class=\"dataframe\">\n",
       "  <thead>\n",
       "    <tr style=\"text-align: right;\">\n",
       "      <th></th>\n",
       "      <th>preco</th>\n",
       "      <th>vendido</th>\n",
       "      <th>km_por_ano</th>\n",
       "      <th>idade</th>\n",
       "    </tr>\n",
       "  </thead>\n",
       "  <tbody>\n",
       "    <tr>\n",
       "      <th>0</th>\n",
       "      <td>30941.02</td>\n",
       "      <td>1</td>\n",
       "      <td>35085.22134</td>\n",
       "      <td>25</td>\n",
       "    </tr>\n",
       "    <tr>\n",
       "      <th>1</th>\n",
       "      <td>40557.96</td>\n",
       "      <td>1</td>\n",
       "      <td>12622.05362</td>\n",
       "      <td>27</td>\n",
       "    </tr>\n",
       "    <tr>\n",
       "      <th>2</th>\n",
       "      <td>89627.50</td>\n",
       "      <td>0</td>\n",
       "      <td>11440.79806</td>\n",
       "      <td>19</td>\n",
       "    </tr>\n",
       "    <tr>\n",
       "      <th>3</th>\n",
       "      <td>95276.14</td>\n",
       "      <td>0</td>\n",
       "      <td>43167.32682</td>\n",
       "      <td>10</td>\n",
       "    </tr>\n",
       "    <tr>\n",
       "      <th>4</th>\n",
       "      <td>117384.68</td>\n",
       "      <td>1</td>\n",
       "      <td>12770.11290</td>\n",
       "      <td>11</td>\n",
       "    </tr>\n",
       "  </tbody>\n",
       "</table>\n",
       "</div>"
      ],
      "text/plain": [
       "       preco  vendido   km_por_ano  idade\n",
       "0   30941.02        1  35085.22134     25\n",
       "1   40557.96        1  12622.05362     27\n",
       "2   89627.50        0  11440.79806     19\n",
       "3   95276.14        0  43167.32682     10\n",
       "4  117384.68        1  12770.11290     11"
      ]
     },
     "execution_count": 4,
     "metadata": {},
     "output_type": "execute_result"
    }
   ],
   "source": [
    "dados.drop([\"milhas_por_ano\", \"ano_do_modelo\"], axis=1, inplace=True)\n",
    "dados.head()"
   ]
  },
  {
   "cell_type": "code",
   "execution_count": 5,
   "id": "768a9895",
   "metadata": {},
   "outputs": [],
   "source": [
    "x = dados[[\"preco\", \"idade\", \"km_por_ano\"]]\n",
    "y = dados[\"vendido\"]"
   ]
  },
  {
   "cell_type": "markdown",
   "id": "7f3c0b92",
   "metadata": {},
   "source": [
    "## SVC"
   ]
  },
  {
   "cell_type": "code",
   "execution_count": 6,
   "id": "340d05fc",
   "metadata": {},
   "outputs": [
    {
     "name": "stdout",
     "output_type": "stream",
     "text": [
      "Treinaremos com: (7500, 3)\n",
      "Testaremos  com: (2500, 3)\n",
      "A acurácia foi de 75.92%\n"
     ]
    }
   ],
   "source": [
    "from sklearn.model_selection import train_test_split\n",
    "from sklearn.svm import SVC\n",
    "from sklearn.metrics import accuracy_score\n",
    "from sklearn.preprocessing import StandardScaler\n",
    "\n",
    "seed = 20\n",
    "\n",
    "raw_treino_x, raw_teste_x, treino_y, teste_y = train_test_split(x, y, random_state=seed, stratify=y)\n",
    "\n",
    "print(f\"Treinaremos com: {raw_treino_x.shape}\")\n",
    "print(f\"Testaremos  com: {raw_teste_x.shape}\")\n",
    "\n",
    "scaler = StandardScaler()\n",
    "scaler.fit(raw_treino_x)\n",
    "\n",
    "treino_x = scaler.transform(raw_treino_x)\n",
    "teste_x = scaler.transform(raw_teste_x)\n",
    "\n",
    "modelo = SVC(gamma='auto', probability=True)\n",
    "modelo.fit(treino_x, treino_y)\n",
    "previsoes = modelo.predict(teste_x)\n",
    "\n",
    "acuracia = accuracy_score(teste_y, previsoes) * 100\n",
    "print(f\"A acurácia foi de {acuracia:.2f}%\")"
   ]
  },
  {
   "cell_type": "code",
   "execution_count": 7,
   "id": "e0a4051f",
   "metadata": {},
   "outputs": [
    {
     "data": {
      "text/html": [
       "<div>\n",
       "<style scoped>\n",
       "    .dataframe tbody tr th:only-of-type {\n",
       "        vertical-align: middle;\n",
       "    }\n",
       "\n",
       "    .dataframe tbody tr th {\n",
       "        vertical-align: top;\n",
       "    }\n",
       "\n",
       "    .dataframe thead th {\n",
       "        text-align: right;\n",
       "    }\n",
       "</style>\n",
       "<table border=\"1\" class=\"dataframe\">\n",
       "  <thead>\n",
       "    <tr style=\"text-align: right;\">\n",
       "      <th></th>\n",
       "      <th>preco</th>\n",
       "      <th>idade</th>\n",
       "      <th>km_por_ano</th>\n",
       "    </tr>\n",
       "  </thead>\n",
       "  <tbody>\n",
       "    <tr>\n",
       "      <th>5794</th>\n",
       "      <td>52015.02</td>\n",
       "      <td>27</td>\n",
       "      <td>43527.81898</td>\n",
       "    </tr>\n",
       "    <tr>\n",
       "      <th>6106</th>\n",
       "      <td>48109.83</td>\n",
       "      <td>19</td>\n",
       "      <td>35353.98112</td>\n",
       "    </tr>\n",
       "    <tr>\n",
       "      <th>8810</th>\n",
       "      <td>89586.74</td>\n",
       "      <td>22</td>\n",
       "      <td>10211.26230</td>\n",
       "    </tr>\n",
       "    <tr>\n",
       "      <th>9338</th>\n",
       "      <td>54703.25</td>\n",
       "      <td>21</td>\n",
       "      <td>33295.63526</td>\n",
       "    </tr>\n",
       "    <tr>\n",
       "      <th>480</th>\n",
       "      <td>49765.05</td>\n",
       "      <td>18</td>\n",
       "      <td>25313.30886</td>\n",
       "    </tr>\n",
       "  </tbody>\n",
       "</table>\n",
       "</div>"
      ],
      "text/plain": [
       "         preco  idade   km_por_ano\n",
       "5794  52015.02     27  43527.81898\n",
       "6106  48109.83     19  35353.98112\n",
       "8810  89586.74     22  10211.26230\n",
       "9338  54703.25     21  33295.63526\n",
       "480   49765.05     18  25313.30886"
      ]
     },
     "execution_count": 7,
     "metadata": {},
     "output_type": "execute_result"
    }
   ],
   "source": [
    "raw_treino_x.head()"
   ]
  },
  {
   "cell_type": "code",
   "execution_count": 8,
   "id": "e33edf4f",
   "metadata": {},
   "outputs": [
    {
     "data": {
      "text/plain": [
       "array([[-0.51597811,  1.3079365 ,  2.55393928],\n",
       "       [-0.67102459, -0.3972521 ,  1.54323498],\n",
       "       [ 0.97571953,  0.24219362, -1.56569062],\n",
       "       ...,\n",
       "       [ 0.8049099 ,  1.09478792,  1.07201077],\n",
       "       [ 1.63314574,  1.3079365 ,  0.24657242],\n",
       "       [-0.76316972,  0.4553422 , -0.05948452]], shape=(7500, 3))"
      ]
     },
     "execution_count": 8,
     "metadata": {},
     "output_type": "execute_result"
    }
   ],
   "source": [
    "treino_x"
   ]
  },
  {
   "cell_type": "code",
   "execution_count": 9,
   "id": "42e6e479",
   "metadata": {},
   "outputs": [
    {
     "name": "stdout",
     "output_type": "stream",
     "text": [
      "[[ 782  268]\n",
      " [ 334 1116]]\n",
      "Verdadeiros negativos: 782\n",
      "Falsos positivos: 268\n",
      "Falsos negativos: 334\n",
      "Verdadeiros positivos: 1116\n"
     ]
    }
   ],
   "source": [
    "from sklearn.metrics import confusion_matrix, ConfusionMatrixDisplay\n",
    "from sklearn.metrics import classification_report, accuracy_score, f1_score, precision_score, recall_score\n",
    "\n",
    "confusion = confusion_matrix(y_true=teste_y, y_pred=previsoes, labels=[0, 1])\n",
    "print(confusion)\n",
    "tn, fp, fn, tp = confusion.ravel()\n",
    "print(f\"Verdadeiros negativos: {tn}\")\n",
    "print(f\"Falsos positivos: {fp}\")\n",
    "print(f\"Falsos negativos: {fn}\")\n",
    "print(f\"Verdadeiros positivos: {tp}\")"
   ]
  },
  {
   "cell_type": "code",
   "execution_count": 10,
   "id": "265359b9",
   "metadata": {},
   "outputs": [
    {
     "data": {
      "image/png": "[encoded data removed]",
      "text/plain": [
       "<Figure size 640x480 with 2 Axes>"
      ]
     },
     "metadata": {},
     "output_type": "display_data"
    }
   ],
   "source": [
    "import numpy as np\n",
    "import matplotlib.pyplot as plt\n",
    "import seaborn as sns\n",
    "# Geração dos rótulos personalizados\n",
    "group_names = [\n",
    "    f\"True Negative: {tn}\",  f\"False Positive: {fp}\",\n",
    "    f\"False Negative: {fn}\", f\"True Positive: {tp}\"\n",
    "]\n",
    "labels = np.asarray(group_names).reshape(2, 2)\n",
    "\n",
    "# Plotando com seaborn\n",
    "sns.heatmap(confusion,\n",
    "            annot=labels, # Adiciona os rótulos personalizados\n",
    "            # annot = True # Adiciona os valores reais\n",
    "            fmt='', # Formato vazio para não adicionar formatação extra\n",
    "            cmap='Blues', # Mapa de cores\n",
    "            # cbar=False, # Remove a barra de cores\n",
    "            xticklabels=[\"0\", \"1\"],\n",
    "            yticklabels=[\"0\", \"1\"])\n",
    "# Títulos dos eixos\n",
    "plt.xlabel('Predicted label')\n",
    "plt.ylabel('True label')\n",
    "plt.title('confusion matrix (TP, FP, FN, TN)')\n",
    "plt.show()"
   ]
  },
  {
   "cell_type": "code",
   "execution_count": 11,
   "id": "f7ed987a",
   "metadata": {},
   "outputs": [
    {
     "name": "stdout",
     "output_type": "stream",
     "text": [
      "AUC manual: 0.82875107\n"
     ]
    },
    {
     "data": {
      "image/png": "[encoded data removed]",
      "text/plain": [
       "<Figure size 640x480 with 1 Axes>"
      ]
     },
     "metadata": {},
     "output_type": "display_data"
    }
   ],
   "source": [
    "from sklearn.metrics import roc_auc_score, roc_curve, auc\n",
    "from sklearn.metrics import RocCurveDisplay\n",
    "\n",
    "\n",
    "# Obter scores com decision_function (não há predict_proba aqui)\n",
    "scores = modelo.predict_proba(teste_x)\n",
    "\n",
    "# Calcular curva ROC\n",
    "fpr, tpr, thresholds = roc_curve(y_true = teste_y, y_score=scores[:,1])\n",
    "roc_auc_manual = auc(x = fpr, y = tpr)\n",
    "print(f\"AUC manual: {roc_auc_manual:.8f}\")\n",
    "\n",
    "# Plotar curva ROC\n",
    "plt.plot(fpr, tpr, label=f\"ROC curve (AUC = {roc_auc_manual:.2f})\")\n",
    "plt.plot([0, 1], [0, 1], linestyle='--', color='gray')  # linha aleatória\n",
    "plt.xlabel(\"Taxa de falso positivo (FPR)\")\n",
    "plt.ylabel(\"Taxa de verdadeiro positivo (TPR)\")\n",
    "plt.title(\"Curva ROC - LinearSVC\")\n",
    "plt.legend(loc=\"lower right\")\n",
    "plt.grid(True)\n",
    "plt.show()"
   ]
  },
  {
   "cell_type": "code",
   "execution_count": 12,
   "id": "68a74db2",
   "metadata": {},
   "outputs": [
    {
     "name": "stdout",
     "output_type": "stream",
     "text": [
      "AUC direto: 0.82875107\n"
     ]
    }
   ],
   "source": [
    "# AUC direto\n",
    "auc_direto = roc_auc_score(y_true = teste_y, y_score = scores[:,1])\n",
    "print(f\"AUC direto: {auc_direto:.8f}\")"
   ]
  },
  {
   "cell_type": "markdown",
   "id": "c323018a",
   "metadata": {},
   "source": [
    "## LinearSVC"
   ]
  },
  {
   "cell_type": "code",
   "execution_count": 13,
   "id": "4c81653d",
   "metadata": {},
   "outputs": [
    {
     "name": "stdout",
     "output_type": "stream",
     "text": [
      "Treinaremos com 7500\n",
      "Testaremos com 2500\n",
      "A acurácia foi de 71.00%\n"
     ]
    }
   ],
   "source": [
    "from sklearn.model_selection import train_test_split\n",
    "from sklearn.svm import LinearSVC\n",
    "from sklearn.metrics import accuracy_score\n",
    "from sklearn.preprocessing import StandardScaler\n",
    "\n",
    "SEED = 5\n",
    "np.random.seed(SEED)\n",
    "raw_treino_x, raw_teste_x, treino_y, teste_y = train_test_split(x, y, test_size = 0.25,\n",
    "                                                         random_state = SEED,\n",
    "                                                         stratify = y)\n",
    "print(f\"Treinaremos com {len(raw_treino_x)}\")\n",
    "print(f\"Testaremos com {len(raw_teste_x)}\")\n",
    "\n",
    "\n",
    "scaler = StandardScaler()\n",
    "scaler.fit(raw_treino_x)\n",
    "\n",
    "treino_x = scaler.transform(raw_treino_x)\n",
    "teste_x = scaler.transform(raw_teste_x)\n",
    "\n",
    "\n",
    "modelo = LinearSVC()\n",
    "modelo.fit(treino_x, treino_y)\n",
    "previsoes = modelo.predict(teste_x)\n",
    "\n",
    "acuracia = accuracy_score(teste_y, previsoes) * 100\n",
    "print(f\"A acurácia foi de {acuracia:.2f}%\")"
   ]
  },
  {
   "cell_type": "code",
   "execution_count": 14,
   "id": "b6b24a95",
   "metadata": {},
   "outputs": [
    {
     "name": "stdout",
     "output_type": "stream",
     "text": [
      "[[ 624  426]\n",
      " [ 299 1151]]\n",
      "Verdadeiros negativos: 624\n",
      "Falsos positivos: 426\n",
      "Falsos negativos: 299\n",
      "Verdadeiros positivos: 1151\n"
     ]
    }
   ],
   "source": [
    "from sklearn.metrics import confusion_matrix, ConfusionMatrixDisplay\n",
    "from sklearn.metrics import classification_report, accuracy_score, f1_score, precision_score, recall_score\n",
    "\n",
    "confusion = confusion_matrix(y_true=teste_y, y_pred=previsoes, labels=[0, 1])\n",
    "print(confusion)\n",
    "tn, fp, fn, tp = confusion.ravel()\n",
    "print(f\"Verdadeiros negativos: {tn}\")\n",
    "print(f\"Falsos positivos: {fp}\")\n",
    "print(f\"Falsos negativos: {fn}\")\n",
    "print(f\"Verdadeiros positivos: {tp}\")"
   ]
  },
  {
   "cell_type": "code",
   "execution_count": 15,
   "id": "99908be8",
   "metadata": {},
   "outputs": [
    {
     "data": {
      "image/png": "[encoded data removed]",
      "text/plain": [
       "<Figure size 640x480 with 2 Axes>"
      ]
     },
     "metadata": {},
     "output_type": "display_data"
    }
   ],
   "source": [
    "import numpy as np\n",
    "import matplotlib.pyplot as plt\n",
    "import seaborn as sns\n",
    "# Geração dos rótulos personalizados\n",
    "group_names = [\n",
    "    f\"True Negative: {tn}\",  f\"False Positive: {fp}\",\n",
    "    f\"False Negative: {fn}\", f\"True Positive: {tp}\"\n",
    "]\n",
    "labels = np.asarray(group_names).reshape(2, 2)\n",
    "\n",
    "# Plotando com seaborn\n",
    "sns.heatmap(confusion,\n",
    "            annot=labels, # Adiciona os rótulos personalizados\n",
    "            # annot = True # Adiciona os valores reais\n",
    "            fmt='', # Formato vazio para não adicionar formatação extra\n",
    "            cmap='Blues', # Mapa de cores\n",
    "            # cbar=False, # Remove a barra de cores\n",
    "            xticklabels=[\"0\", \"1\"],\n",
    "            yticklabels=[\"0\", \"1\"])\n",
    "# Títulos dos eixos\n",
    "plt.xlabel('Predicted label')\n",
    "plt.ylabel('True label')\n",
    "plt.title('confusion matrix (TP, FP, FN, TN)')\n",
    "plt.show()"
   ]
  },
  {
   "cell_type": "code",
   "execution_count": 16,
   "id": "c6ed2251",
   "metadata": {},
   "outputs": [
    {
     "name": "stdout",
     "output_type": "stream",
     "text": [
      "AUC manual: 0.78760920\n"
     ]
    },
    {
     "data": {
      "image/png": "[encoded data removed]",
      "text/plain": [
       "<Figure size 640x480 with 1 Axes>"
      ]
     },
     "metadata": {},
     "output_type": "display_data"
    }
   ],
   "source": [
    "from sklearn.metrics import roc_auc_score, roc_curve, auc\n",
    "from sklearn.metrics import RocCurveDisplay\n",
    "\n",
    "\n",
    "# Obter scores com decision_function (não há predict_proba aqui)\n",
    "scores = modelo.decision_function(teste_x)\n",
    "\n",
    "# Calcular curva ROC\n",
    "fpr, tpr, thresholds = roc_curve(y_true = teste_y, y_score=scores)\n",
    "roc_auc_manual = auc(x = fpr, y = tpr)\n",
    "print(f\"AUC manual: {roc_auc_manual:.8f}\")\n",
    "\n",
    "# Plotar curva ROC\n",
    "plt.plot(fpr, tpr, label=f\"ROC curve (AUC = {roc_auc_manual:.2f})\")\n",
    "plt.plot([0, 1], [0, 1], linestyle='--', color='gray')  # linha aleatória\n",
    "plt.xlabel(\"Taxa de falso positivo (FPR)\")\n",
    "plt.ylabel(\"Taxa de verdadeiro positivo (TPR)\")\n",
    "plt.title(\"Curva ROC - LinearSVC\")\n",
    "plt.legend(loc=\"lower right\")\n",
    "plt.grid(True)\n",
    "plt.show()"
   ]
  },
  {
   "cell_type": "code",
   "execution_count": 18,
   "id": "05db0bf1",
   "metadata": {},
   "outputs": [
    {
     "name": "stdout",
     "output_type": "stream",
     "text": [
      "AUC direto: 0.78760920\n"
     ]
    }
   ],
   "source": [
    "# AUC direto\n",
    "auc_direto = roc_auc_score(y_true = teste_y, y_score = scores)\n",
    "print(f\"AUC direto: {auc_direto:.8f}\")"
   ]
  },
  {
   "cell_type": "markdown",
   "id": "1e020449",
   "metadata": {},
   "source": [
    "## DummyClassifier"
   ]
  },
  {
   "cell_type": "code",
   "execution_count": 19,
   "id": "b5f28920",
   "metadata": {},
   "outputs": [
    {
     "data": {
      "text/plain": [
       "array([[ 1.62663622,  0.66907903, -0.62913537],\n",
       "       [-0.33714655,  0.24235232, -1.31870128],\n",
       "       [ 0.76029211,  0.66907903,  0.65698987],\n",
       "       ...,\n",
       "       [ 1.5520527 ,  0.45571567,  1.5672967 ],\n",
       "       [ 0.44233999,  0.02898897, -0.99218034],\n",
       "       [-0.0212041 ,  1.09580574, -0.67583824]], shape=(7500, 3))"
      ]
     },
     "execution_count": 19,
     "metadata": {},
     "output_type": "execute_result"
    }
   ],
   "source": [
    "treino_x"
   ]
  },
  {
   "cell_type": "code",
   "execution_count": 20,
   "id": "b6034af8",
   "metadata": {},
   "outputs": [
    {
     "data": {
      "text/plain": [
       "array([[ 0.74789957,  0.45571567, -0.20282198],\n",
       "       [-0.73801061,  1.30916909, -1.31450999],\n",
       "       [-0.99485169,  0.66907903, -0.47904751],\n",
       "       ...,\n",
       "       [ 1.63777207,  1.30916909, -0.99716997],\n",
       "       [ 1.61990573,  0.45571567, -0.88799701],\n",
       "       [-0.07075881,  0.66907903, -0.44451932]], shape=(2500, 3))"
      ]
     },
     "execution_count": 20,
     "metadata": {},
     "output_type": "execute_result"
    }
   ],
   "source": [
    "teste_x"
   ]
  },
  {
   "cell_type": "code",
   "execution_count": 21,
   "id": "9335d0e6",
   "metadata": {},
   "outputs": [
    {
     "name": "stdout",
     "output_type": "stream",
     "text": [
      "A acurácia do dummy stratified foi 58.00%\n"
     ]
    }
   ],
   "source": [
    "from sklearn.dummy import DummyClassifier\n",
    "\n",
    "dummy_stratified = DummyClassifier()\n",
    "dummy_stratified.fit(treino_x, treino_y)\n",
    "acuracia = dummy_stratified.score(teste_x, teste_y) * 100\n",
    "\n",
    "print(\"A acurácia do dummy stratified foi %.2f%%\" % acuracia)"
   ]
  },
  {
   "cell_type": "code",
   "execution_count": null,
   "id": "99e09ecb",
   "metadata": {},
   "outputs": [],
   "source": []
  },
  {
   "cell_type": "markdown",
   "id": "4213ceed",
   "metadata": {},
   "source": [
    "## DecisionTreeClassifier"
   ]
  },
  {
   "cell_type": "code",
   "execution_count": 22,
   "id": "8e1ff39d",
   "metadata": {},
   "outputs": [
    {
     "name": "stdout",
     "output_type": "stream",
     "text": [
      "Treinaremos com 7500 elementos e testaremos com 2500 elementos\n",
      "A acurácia foi 79.28%\n"
     ]
    }
   ],
   "source": [
    "from sklearn.preprocessing import StandardScaler\n",
    "from sklearn.model_selection import train_test_split\n",
    "from sklearn.tree import DecisionTreeClassifier\n",
    "from sklearn.metrics import accuracy_score\n",
    "\n",
    "SEED = 5\n",
    "np.random.seed(SEED)\n",
    "raw_treino_x, raw_teste_x, treino_y, teste_y = train_test_split(x, y, test_size = 0.25,\n",
    "                                                         stratify = y)\n",
    "print(\"Treinaremos com %d elementos e testaremos com %d elementos\" % (len(treino_x), len(teste_x)))\n",
    "\n",
    "decision_tree_modelo = DecisionTreeClassifier(max_depth=3)\n",
    "decision_tree_modelo.fit(raw_treino_x, treino_y)\n",
    "decision_tree_previsoes = decision_tree_modelo.predict(raw_teste_x)\n",
    "\n",
    "decision_tree_acuracia = accuracy_score(teste_y, decision_tree_previsoes) * 100\n",
    "print(\"A acurácia foi %.2f%%\" % decision_tree_acuracia)\n"
   ]
  },
  {
   "cell_type": "code",
   "execution_count": 23,
   "id": "a73aa76a",
   "metadata": {},
   "outputs": [
    {
     "data": {
      "text/plain": [
       "array([0, 1, 1, ..., 1, 1, 0], shape=(2500,))"
      ]
     },
     "execution_count": 23,
     "metadata": {},
     "output_type": "execute_result"
    }
   ],
   "source": [
    "decision_tree_previsoes"
   ]
  },
  {
   "cell_type": "code",
   "execution_count": 24,
   "id": "18aefe4c",
   "metadata": {},
   "outputs": [
    {
     "data": {
      "image/svg+xml": [
       "<?xml version=\"1.0\" encoding=\"UTF-8\" standalone=\"no\"?>\r\n",
       "<!DOCTYPE svg PUBLIC \"-//W3C//DTD SVG 1.1//EN\"\r\n",
       " \"http://www.w3.org/Graphics/SVG/1.1/DTD/svg11.dtd\">\r\n",
       "<!-- Generated by graphviz version 12.2.1 (20241206.2353)\r\n",
       " -->\r\n",
       "<!-- Title: Tree Pages: 1 -->\r\n",
       "<svg width=\"869pt\" height=\"447pt\"\r\n",
       " viewBox=\"0.00 0.00 868.50 447.25\" xmlns=\"http://www.w3.org/2000/svg\" xmlns:xlink=\"http://www.w3.org/1999/xlink\">\r\n",
       "<g id=\"graph0\" class=\"graph\" transform=\"scale(1 1) rotate(0) translate(4 443.25)\">\r\n",
       "<title>Tree</title>\r\n",
       "<polygon fill=\"white\" stroke=\"none\" points=\"-4,4 -4,-443.25 864.5,-443.25 864.5,4 -4,4\"/>\r\n",
       "<!-- 0 -->\r\n",
       "<g id=\"node1\" class=\"node\">\r\n",
       "<title>0</title>\r\n",
       "<path fill=\"#c8e4f8\" stroke=\"black\" d=\"M348.75,-439.25C348.75,-439.25 233.75,-439.25 233.75,-439.25 227.75,-439.25 221.75,-433.25 221.75,-427.25 221.75,-427.25 221.75,-364.5 221.75,-364.5 221.75,-358.5 227.75,-352.5 233.75,-352.5 233.75,-352.5 348.75,-352.5 348.75,-352.5 354.75,-352.5 360.75,-358.5 360.75,-364.5 360.75,-364.5 360.75,-427.25 360.75,-427.25 360.75,-433.25 354.75,-439.25 348.75,-439.25\"/>\r\n",
       "<text text-anchor=\"middle\" x=\"291.25\" y=\"-421.95\" font-family=\"Helvetica,sans-Serif\" font-size=\"14.00\">preco &lt;= 59999.074</text>\r\n",
       "<text text-anchor=\"middle\" x=\"291.25\" y=\"-406.2\" font-family=\"Helvetica,sans-Serif\" font-size=\"14.00\">gini = 0.487</text>\r\n",
       "<text text-anchor=\"middle\" x=\"291.25\" y=\"-390.45\" font-family=\"Helvetica,sans-Serif\" font-size=\"14.00\">samples = 7500</text>\r\n",
       "<text text-anchor=\"middle\" x=\"291.25\" y=\"-374.7\" font-family=\"Helvetica,sans-Serif\" font-size=\"14.00\">value = [3150, 4350]</text>\r\n",
       "<text text-anchor=\"middle\" x=\"291.25\" y=\"-358.95\" font-family=\"Helvetica,sans-Serif\" font-size=\"14.00\">class = sim</text>\r\n",
       "</g>\r\n",
       "<!-- 1 -->\r\n",
       "<g id=\"node2\" class=\"node\">\r\n",
       "<title>1</title>\r\n",
       "<path fill=\"#52aae8\" stroke=\"black\" d=\"M260,-316.5C260,-316.5 146.5,-316.5 146.5,-316.5 140.5,-316.5 134.5,-310.5 134.5,-304.5 134.5,-304.5 134.5,-241.75 134.5,-241.75 134.5,-235.75 140.5,-229.75 146.5,-229.75 146.5,-229.75 260,-229.75 260,-229.75 266,-229.75 272,-235.75 272,-241.75 272,-241.75 272,-304.5 272,-304.5 272,-310.5 266,-316.5 260,-316.5\"/>\r\n",
       "<text text-anchor=\"middle\" x=\"203.25\" y=\"-299.2\" font-family=\"Helvetica,sans-Serif\" font-size=\"14.00\">preco &lt;= 40070.154</text>\r\n",
       "<text text-anchor=\"middle\" x=\"203.25\" y=\"-283.45\" font-family=\"Helvetica,sans-Serif\" font-size=\"14.00\">gini = 0.202</text>\r\n",
       "<text text-anchor=\"middle\" x=\"203.25\" y=\"-267.7\" font-family=\"Helvetica,sans-Serif\" font-size=\"14.00\">samples = 3248</text>\r\n",
       "<text text-anchor=\"middle\" x=\"203.25\" y=\"-251.95\" font-family=\"Helvetica,sans-Serif\" font-size=\"14.00\">value = [370, 2878]</text>\r\n",
       "<text text-anchor=\"middle\" x=\"203.25\" y=\"-236.2\" font-family=\"Helvetica,sans-Serif\" font-size=\"14.00\">class = sim</text>\r\n",
       "</g>\r\n",
       "<!-- 0&#45;&gt;1 -->\r\n",
       "<g id=\"edge1\" class=\"edge\">\r\n",
       "<title>0&#45;&gt;1</title>\r\n",
       "<path fill=\"none\" stroke=\"black\" d=\"M260.22,-352.3C253.98,-343.74 247.35,-334.64 240.91,-325.81\"/>\r\n",
       "<polygon fill=\"black\" stroke=\"black\" points=\"243.9,-323.96 235.18,-317.94 238.24,-328.09 243.9,-323.96\"/>\r\n",
       "<text text-anchor=\"middle\" x=\"230.42\" y=\"-335.99\" font-family=\"Helvetica,sans-Serif\" font-size=\"14.00\">True</text>\r\n",
       "</g>\r\n",
       "<!-- 6 -->\r\n",
       "<g id=\"node7\" class=\"node\">\r\n",
       "<title>6</title>\r\n",
       "<path fill=\"#f3c4a2\" stroke=\"black\" d=\"M512.62,-316.5C512.62,-316.5 357.88,-316.5 357.88,-316.5 351.88,-316.5 345.88,-310.5 345.88,-304.5 345.88,-304.5 345.88,-241.75 345.88,-241.75 345.88,-235.75 351.88,-229.75 357.88,-229.75 357.88,-229.75 512.62,-229.75 512.62,-229.75 518.62,-229.75 524.62,-235.75 524.62,-241.75 524.62,-241.75 524.62,-304.5 524.62,-304.5 524.62,-310.5 518.62,-316.5 512.62,-316.5\"/>\r\n",
       "<text text-anchor=\"middle\" x=\"435.25\" y=\"-299.2\" font-family=\"Helvetica,sans-Serif\" font-size=\"14.00\">km_por_ano &lt;= 24112.741</text>\r\n",
       "<text text-anchor=\"middle\" x=\"435.25\" y=\"-283.45\" font-family=\"Helvetica,sans-Serif\" font-size=\"14.00\">gini = 0.453</text>\r\n",
       "<text text-anchor=\"middle\" x=\"435.25\" y=\"-267.7\" font-family=\"Helvetica,sans-Serif\" font-size=\"14.00\">samples = 4252</text>\r\n",
       "<text text-anchor=\"middle\" x=\"435.25\" y=\"-251.95\" font-family=\"Helvetica,sans-Serif\" font-size=\"14.00\">value = [2780, 1472]</text>\r\n",
       "<text text-anchor=\"middle\" x=\"435.25\" y=\"-236.2\" font-family=\"Helvetica,sans-Serif\" font-size=\"14.00\">class = não</text>\r\n",
       "</g>\r\n",
       "<!-- 0&#45;&gt;6 -->\r\n",
       "<g id=\"edge6\" class=\"edge\">\r\n",
       "<title>0&#45;&gt;6</title>\r\n",
       "<path fill=\"none\" stroke=\"black\" d=\"M342.02,-352.3C352.99,-343.1 364.68,-333.3 375.94,-323.86\"/>\r\n",
       "<polygon fill=\"black\" stroke=\"black\" points=\"377.88,-326.8 383.29,-317.69 373.38,-321.44 377.88,-326.8\"/>\r\n",
       "<text text-anchor=\"middle\" x=\"382.27\" y=\"-336.2\" font-family=\"Helvetica,sans-Serif\" font-size=\"14.00\">False</text>\r\n",
       "</g>\r\n",
       "<!-- 2 -->\r\n",
       "<g id=\"node3\" class=\"node\">\r\n",
       "<title>2</title>\r\n",
       "<path fill=\"#399de5\" stroke=\"black\" d=\"M104.5,-185.88C104.5,-185.88 12,-185.88 12,-185.88 6,-185.88 0,-179.88 0,-173.88 0,-173.88 0,-126.88 0,-126.88 0,-120.88 6,-114.88 12,-114.88 12,-114.88 104.5,-114.88 104.5,-114.88 110.5,-114.88 116.5,-120.88 116.5,-126.88 116.5,-126.88 116.5,-173.88 116.5,-173.88 116.5,-179.88 110.5,-185.88 104.5,-185.88\"/>\r\n",
       "<text text-anchor=\"middle\" x=\"58.25\" y=\"-168.57\" font-family=\"Helvetica,sans-Serif\" font-size=\"14.00\">gini = 0.0</text>\r\n",
       "<text text-anchor=\"middle\" x=\"58.25\" y=\"-152.82\" font-family=\"Helvetica,sans-Serif\" font-size=\"14.00\">samples = 1441</text>\r\n",
       "<text text-anchor=\"middle\" x=\"58.25\" y=\"-137.07\" font-family=\"Helvetica,sans-Serif\" font-size=\"14.00\">value = [0, 1441]</text>\r\n",
       "<text text-anchor=\"middle\" x=\"58.25\" y=\"-121.33\" font-family=\"Helvetica,sans-Serif\" font-size=\"14.00\">class = sim</text>\r\n",
       "</g>\r\n",
       "<!-- 1&#45;&gt;2 -->\r\n",
       "<g id=\"edge2\" class=\"edge\">\r\n",
       "<title>1&#45;&gt;2</title>\r\n",
       "<path fill=\"none\" stroke=\"black\" d=\"M152.13,-229.55C137.95,-217.74 122.57,-204.94 108.44,-193.18\"/>\r\n",
       "<polygon fill=\"black\" stroke=\"black\" points=\"110.92,-190.68 101,-186.97 106.44,-196.06 110.92,-190.68\"/>\r\n",
       "</g>\r\n",
       "<!-- 3 -->\r\n",
       "<g id=\"node4\" class=\"node\">\r\n",
       "<title>3</title>\r\n",
       "<path fill=\"#6cb6ec\" stroke=\"black\" d=\"M260,-193.75C260,-193.75 146.5,-193.75 146.5,-193.75 140.5,-193.75 134.5,-187.75 134.5,-181.75 134.5,-181.75 134.5,-119 134.5,-119 134.5,-113 140.5,-107 146.5,-107 146.5,-107 260,-107 260,-107 266,-107 272,-113 272,-119 272,-119 272,-181.75 272,-181.75 272,-187.75 266,-193.75 260,-193.75\"/>\r\n",
       "<text text-anchor=\"middle\" x=\"203.25\" y=\"-176.45\" font-family=\"Helvetica,sans-Serif\" font-size=\"14.00\">preco &lt;= 40723.646</text>\r\n",
       "<text text-anchor=\"middle\" x=\"203.25\" y=\"-160.7\" font-family=\"Helvetica,sans-Serif\" font-size=\"14.00\">gini = 0.326</text>\r\n",
       "<text text-anchor=\"middle\" x=\"203.25\" y=\"-144.95\" font-family=\"Helvetica,sans-Serif\" font-size=\"14.00\">samples = 1807</text>\r\n",
       "<text text-anchor=\"middle\" x=\"203.25\" y=\"-129.2\" font-family=\"Helvetica,sans-Serif\" font-size=\"14.00\">value = [370, 1437]</text>\r\n",
       "<text text-anchor=\"middle\" x=\"203.25\" y=\"-113.45\" font-family=\"Helvetica,sans-Serif\" font-size=\"14.00\">class = sim</text>\r\n",
       "</g>\r\n",
       "<!-- 1&#45;&gt;3 -->\r\n",
       "<g id=\"edge3\" class=\"edge\">\r\n",
       "<title>1&#45;&gt;3</title>\r\n",
       "<path fill=\"none\" stroke=\"black\" d=\"M203.25,-229.55C203.25,-221.71 203.25,-213.42 203.25,-205.29\"/>\r\n",
       "<polygon fill=\"black\" stroke=\"black\" points=\"206.75,-205.48 203.25,-195.48 199.75,-205.48 206.75,-205.48\"/>\r\n",
       "</g>\r\n",
       "<!-- 4 -->\r\n",
       "<g id=\"node5\" class=\"node\">\r\n",
       "<title>4</title>\r\n",
       "<path fill=\"#9acdf2\" stroke=\"black\" d=\"M107.75,-71C107.75,-71 22.75,-71 22.75,-71 16.75,-71 10.75,-65 10.75,-59 10.75,-59 10.75,-12 10.75,-12 10.75,-6 16.75,0 22.75,0 22.75,0 107.75,0 107.75,0 113.75,0 119.75,-6 119.75,-12 119.75,-12 119.75,-59 119.75,-59 119.75,-65 113.75,-71 107.75,-71\"/>\r\n",
       "<text text-anchor=\"middle\" x=\"65.25\" y=\"-53.7\" font-family=\"Helvetica,sans-Serif\" font-size=\"14.00\">gini = 0.441</text>\r\n",
       "<text text-anchor=\"middle\" x=\"65.25\" y=\"-37.95\" font-family=\"Helvetica,sans-Serif\" font-size=\"14.00\">samples = 61</text>\r\n",
       "<text text-anchor=\"middle\" x=\"65.25\" y=\"-22.2\" font-family=\"Helvetica,sans-Serif\" font-size=\"14.00\">value = [20, 41]</text>\r\n",
       "<text text-anchor=\"middle\" x=\"65.25\" y=\"-6.45\" font-family=\"Helvetica,sans-Serif\" font-size=\"14.00\">class = sim</text>\r\n",
       "</g>\r\n",
       "<!-- 3&#45;&gt;4 -->\r\n",
       "<g id=\"edge4\" class=\"edge\">\r\n",
       "<title>3&#45;&gt;4</title>\r\n",
       "<path fill=\"none\" stroke=\"black\" d=\"M151.08,-106.7C139.76,-97.44 127.79,-87.65 116.5,-78.42\"/>\r\n",
       "<polygon fill=\"black\" stroke=\"black\" points=\"118.75,-75.74 108.79,-72.12 114.32,-81.16 118.75,-75.74\"/>\r\n",
       "</g>\r\n",
       "<!-- 5 -->\r\n",
       "<g id=\"node6\" class=\"node\">\r\n",
       "<title>5</title>\r\n",
       "<path fill=\"#6bb6ec\" stroke=\"black\" d=\"M257,-71C257,-71 149.5,-71 149.5,-71 143.5,-71 137.5,-65 137.5,-59 137.5,-59 137.5,-12 137.5,-12 137.5,-6 143.5,0 149.5,0 149.5,0 257,0 257,0 263,0 269,-6 269,-12 269,-12 269,-59 269,-59 269,-65 263,-71 257,-71\"/>\r\n",
       "<text text-anchor=\"middle\" x=\"203.25\" y=\"-53.7\" font-family=\"Helvetica,sans-Serif\" font-size=\"14.00\">gini = 0.321</text>\r\n",
       "<text text-anchor=\"middle\" x=\"203.25\" y=\"-37.95\" font-family=\"Helvetica,sans-Serif\" font-size=\"14.00\">samples = 1746</text>\r\n",
       "<text text-anchor=\"middle\" x=\"203.25\" y=\"-22.2\" font-family=\"Helvetica,sans-Serif\" font-size=\"14.00\">value = [350, 1396]</text>\r\n",
       "<text text-anchor=\"middle\" x=\"203.25\" y=\"-6.45\" font-family=\"Helvetica,sans-Serif\" font-size=\"14.00\">class = sim</text>\r\n",
       "</g>\r\n",
       "<!-- 3&#45;&gt;5 -->\r\n",
       "<g id=\"edge5\" class=\"edge\">\r\n",
       "<title>3&#45;&gt;5</title>\r\n",
       "<path fill=\"none\" stroke=\"black\" d=\"M203.25,-106.7C203.25,-98.82 203.25,-90.55 203.25,-82.57\"/>\r\n",
       "<polygon fill=\"black\" stroke=\"black\" points=\"206.75,-82.67 203.25,-72.67 199.75,-82.67 206.75,-82.67\"/>\r\n",
       "</g>\r\n",
       "<!-- 7 -->\r\n",
       "<g id=\"node8\" class=\"node\">\r\n",
       "<title>7</title>\r\n",
       "<path fill=\"#fcf0e7\" stroke=\"black\" d=\"M492.75,-193.75C492.75,-193.75 377.75,-193.75 377.75,-193.75 371.75,-193.75 365.75,-187.75 365.75,-181.75 365.75,-181.75 365.75,-119 365.75,-119 365.75,-113 371.75,-107 377.75,-107 377.75,-107 492.75,-107 492.75,-107 498.75,-107 504.75,-113 504.75,-119 504.75,-119 504.75,-181.75 504.75,-181.75 504.75,-187.75 498.75,-193.75 492.75,-193.75\"/>\r\n",
       "<text text-anchor=\"middle\" x=\"435.25\" y=\"-176.45\" font-family=\"Helvetica,sans-Serif\" font-size=\"14.00\">preco &lt;= 99974.41</text>\r\n",
       "<text text-anchor=\"middle\" x=\"435.25\" y=\"-160.7\" font-family=\"Helvetica,sans-Serif\" font-size=\"14.00\">gini = 0.498</text>\r\n",
       "<text text-anchor=\"middle\" x=\"435.25\" y=\"-144.95\" font-family=\"Helvetica,sans-Serif\" font-size=\"14.00\">samples = 2649</text>\r\n",
       "<text text-anchor=\"middle\" x=\"435.25\" y=\"-129.2\" font-family=\"Helvetica,sans-Serif\" font-size=\"14.00\">value = [1409, 1240]</text>\r\n",
       "<text text-anchor=\"middle\" x=\"435.25\" y=\"-113.45\" font-family=\"Helvetica,sans-Serif\" font-size=\"14.00\">class = não</text>\r\n",
       "</g>\r\n",
       "<!-- 6&#45;&gt;7 -->\r\n",
       "<g id=\"edge7\" class=\"edge\">\r\n",
       "<title>6&#45;&gt;7</title>\r\n",
       "<path fill=\"none\" stroke=\"black\" d=\"M435.25,-229.55C435.25,-221.71 435.25,-213.42 435.25,-205.29\"/>\r\n",
       "<polygon fill=\"black\" stroke=\"black\" points=\"438.75,-205.48 435.25,-195.48 431.75,-205.48 438.75,-205.48\"/>\r\n",
       "</g>\r\n",
       "<!-- 10 -->\r\n",
       "<g id=\"node11\" class=\"node\">\r\n",
       "<title>10</title>\r\n",
       "<path fill=\"#e9965b\" stroke=\"black\" d=\"M712.75,-193.75C712.75,-193.75 591.75,-193.75 591.75,-193.75 585.75,-193.75 579.75,-187.75 579.75,-181.75 579.75,-181.75 579.75,-119 579.75,-119 579.75,-113 585.75,-107 591.75,-107 591.75,-107 712.75,-107 712.75,-107 718.75,-107 724.75,-113 724.75,-119 724.75,-119 724.75,-181.75 724.75,-181.75 724.75,-187.75 718.75,-193.75 712.75,-193.75\"/>\r\n",
       "<text text-anchor=\"middle\" x=\"652.25\" y=\"-176.45\" font-family=\"Helvetica,sans-Serif\" font-size=\"14.00\">preco &lt;= 100076.957</text>\r\n",
       "<text text-anchor=\"middle\" x=\"652.25\" y=\"-160.7\" font-family=\"Helvetica,sans-Serif\" font-size=\"14.00\">gini = 0.248</text>\r\n",
       "<text text-anchor=\"middle\" x=\"652.25\" y=\"-144.95\" font-family=\"Helvetica,sans-Serif\" font-size=\"14.00\">samples = 1603</text>\r\n",
       "<text text-anchor=\"middle\" x=\"652.25\" y=\"-129.2\" font-family=\"Helvetica,sans-Serif\" font-size=\"14.00\">value = [1371, 232]</text>\r\n",
       "<text text-anchor=\"middle\" x=\"652.25\" y=\"-113.45\" font-family=\"Helvetica,sans-Serif\" font-size=\"14.00\">class = não</text>\r\n",
       "</g>\r\n",
       "<!-- 6&#45;&gt;10 -->\r\n",
       "<g id=\"edge10\" class=\"edge\">\r\n",
       "<title>6&#45;&gt;10</title>\r\n",
       "<path fill=\"none\" stroke=\"black\" d=\"M512.06,-229.38C530.66,-219.03 550.63,-207.92 569.49,-197.43\"/>\r\n",
       "<polygon fill=\"black\" stroke=\"black\" points=\"571.18,-200.49 578.22,-192.57 567.78,-194.37 571.18,-200.49\"/>\r\n",
       "</g>\r\n",
       "<!-- 8 -->\r\n",
       "<g id=\"node9\" class=\"node\">\r\n",
       "<title>8</title>\r\n",
       "<path fill=\"#f9e0cf\" stroke=\"black\" d=\"M407,-71C407,-71 299.5,-71 299.5,-71 293.5,-71 287.5,-65 287.5,-59 287.5,-59 287.5,-12 287.5,-12 287.5,-6 293.5,0 299.5,0 299.5,0 407,0 407,0 413,0 419,-6 419,-12 419,-12 419,-59 419,-59 419,-65 413,-71 407,-71\"/>\r\n",
       "<text text-anchor=\"middle\" x=\"353.25\" y=\"-53.7\" font-family=\"Helvetica,sans-Serif\" font-size=\"14.00\">gini = 0.49</text>\r\n",
       "<text text-anchor=\"middle\" x=\"353.25\" y=\"-37.95\" font-family=\"Helvetica,sans-Serif\" font-size=\"14.00\">samples = 2223</text>\r\n",
       "<text text-anchor=\"middle\" x=\"353.25\" y=\"-22.2\" font-family=\"Helvetica,sans-Serif\" font-size=\"14.00\">value = [1266, 957]</text>\r\n",
       "<text text-anchor=\"middle\" x=\"353.25\" y=\"-6.45\" font-family=\"Helvetica,sans-Serif\" font-size=\"14.00\">class = não</text>\r\n",
       "</g>\r\n",
       "<!-- 7&#45;&gt;8 -->\r\n",
       "<g id=\"edge8\" class=\"edge\">\r\n",
       "<title>7&#45;&gt;8</title>\r\n",
       "<path fill=\"none\" stroke=\"black\" d=\"M404.25,-106.7C397.99,-98.08 391.39,-89.01 385.1,-80.35\"/>\r\n",
       "<polygon fill=\"black\" stroke=\"black\" points=\"388.03,-78.42 379.32,-72.38 382.36,-82.53 388.03,-78.42\"/>\r\n",
       "</g>\r\n",
       "<!-- 9 -->\r\n",
       "<g id=\"node10\" class=\"node\">\r\n",
       "<title>9</title>\r\n",
       "<path fill=\"#9dcff2\" stroke=\"black\" d=\"M549.25,-71C549.25,-71 449.25,-71 449.25,-71 443.25,-71 437.25,-65 437.25,-59 437.25,-59 437.25,-12 437.25,-12 437.25,-6 443.25,0 449.25,0 449.25,0 549.25,0 549.25,0 555.25,0 561.25,-6 561.25,-12 561.25,-12 561.25,-59 561.25,-59 561.25,-65 555.25,-71 549.25,-71\"/>\r\n",
       "<text text-anchor=\"middle\" x=\"499.25\" y=\"-53.7\" font-family=\"Helvetica,sans-Serif\" font-size=\"14.00\">gini = 0.446</text>\r\n",
       "<text text-anchor=\"middle\" x=\"499.25\" y=\"-37.95\" font-family=\"Helvetica,sans-Serif\" font-size=\"14.00\">samples = 426</text>\r\n",
       "<text text-anchor=\"middle\" x=\"499.25\" y=\"-22.2\" font-family=\"Helvetica,sans-Serif\" font-size=\"14.00\">value = [143, 283]</text>\r\n",
       "<text text-anchor=\"middle\" x=\"499.25\" y=\"-6.45\" font-family=\"Helvetica,sans-Serif\" font-size=\"14.00\">class = sim</text>\r\n",
       "</g>\r\n",
       "<!-- 7&#45;&gt;9 -->\r\n",
       "<g id=\"edge9\" class=\"edge\">\r\n",
       "<title>7&#45;&gt;9</title>\r\n",
       "<path fill=\"none\" stroke=\"black\" d=\"M459.45,-106.7C464.23,-98.27 469.26,-89.39 474.07,-80.9\"/>\r\n",
       "<polygon fill=\"black\" stroke=\"black\" points=\"476.97,-82.9 478.85,-72.47 470.88,-79.45 476.97,-82.9\"/>\r\n",
       "</g>\r\n",
       "<!-- 11 -->\r\n",
       "<g id=\"node12\" class=\"node\">\r\n",
       "<title>11</title>\r\n",
       "<path fill=\"#e68742\" stroke=\"black\" d=\"M713.5,-71C713.5,-71 591,-71 591,-71 585,-71 579,-65 579,-59 579,-59 579,-12 579,-12 579,-6 585,0 591,0 591,0 713.5,0 713.5,0 719.5,0 725.5,-6 725.5,-12 725.5,-12 725.5,-59 725.5,-59 725.5,-65 719.5,-71 713.5,-71\"/>\r\n",
       "<text text-anchor=\"middle\" x=\"652.25\" y=\"-53.7\" font-family=\"Helvetica,sans-Serif\" font-size=\"14.00\">gini = 0.086</text>\r\n",
       "<text text-anchor=\"middle\" x=\"652.25\" y=\"-37.95\" font-family=\"Helvetica,sans-Serif\" font-size=\"14.00\">samples = 1356</text>\r\n",
       "<text text-anchor=\"middle\" x=\"652.25\" y=\"-22.2\" font-family=\"Helvetica,sans-Serif\" font-size=\"14.00\">value = [1295.0, 61.0]</text>\r\n",
       "<text text-anchor=\"middle\" x=\"652.25\" y=\"-6.45\" font-family=\"Helvetica,sans-Serif\" font-size=\"14.00\">class = não</text>\r\n",
       "</g>\r\n",
       "<!-- 10&#45;&gt;11 -->\r\n",
       "<g id=\"edge11\" class=\"edge\">\r\n",
       "<title>10&#45;&gt;11</title>\r\n",
       "<path fill=\"none\" stroke=\"black\" d=\"M652.25,-106.7C652.25,-98.82 652.25,-90.55 652.25,-82.57\"/>\r\n",
       "<polygon fill=\"black\" stroke=\"black\" points=\"655.75,-82.67 652.25,-72.67 648.75,-82.67 655.75,-82.67\"/>\r\n",
       "</g>\r\n",
       "<!-- 12 -->\r\n",
       "<g id=\"node13\" class=\"node\">\r\n",
       "<title>12</title>\r\n",
       "<path fill=\"#91c9f1\" stroke=\"black\" d=\"M848.5,-71C848.5,-71 756,-71 756,-71 750,-71 744,-65 744,-59 744,-59 744,-12 744,-12 744,-6 750,0 756,0 756,0 848.5,0 848.5,0 854.5,0 860.5,-6 860.5,-12 860.5,-12 860.5,-59 860.5,-59 860.5,-65 854.5,-71 848.5,-71\"/>\r\n",
       "<text text-anchor=\"middle\" x=\"802.25\" y=\"-53.7\" font-family=\"Helvetica,sans-Serif\" font-size=\"14.00\">gini = 0.426</text>\r\n",
       "<text text-anchor=\"middle\" x=\"802.25\" y=\"-37.95\" font-family=\"Helvetica,sans-Serif\" font-size=\"14.00\">samples = 247</text>\r\n",
       "<text text-anchor=\"middle\" x=\"802.25\" y=\"-22.2\" font-family=\"Helvetica,sans-Serif\" font-size=\"14.00\">value = [76, 171]</text>\r\n",
       "<text text-anchor=\"middle\" x=\"802.25\" y=\"-6.45\" font-family=\"Helvetica,sans-Serif\" font-size=\"14.00\">class = sim</text>\r\n",
       "</g>\r\n",
       "<!-- 10&#45;&gt;12 -->\r\n",
       "<g id=\"edge12\" class=\"edge\">\r\n",
       "<title>10&#45;&gt;12</title>\r\n",
       "<path fill=\"none\" stroke=\"black\" d=\"M708.96,-106.7C721.51,-97.26 734.79,-87.27 747.27,-77.87\"/>\r\n",
       "<polygon fill=\"black\" stroke=\"black\" points=\"749.1,-80.88 754.98,-72.07 744.89,-75.28 749.1,-80.88\"/>\r\n",
       "</g>\r\n",
       "</g>\r\n",
       "</svg>\r\n"
      ],
      "text/plain": [
       "<graphviz.files.Source at 0x263e7881410>"
      ]
     },
     "execution_count": 24,
     "metadata": {},
     "output_type": "execute_result"
    }
   ],
   "source": [
    "from sklearn.tree import export_graphviz\n",
    "import graphviz\n",
    "\n",
    "features = x.columns\n",
    "dot_data = export_graphviz(decision_tree=decision_tree_modelo, out_file=None,\n",
    "                           filled = True, rounded = True,\n",
    "                           feature_names = features,\n",
    "                          class_names = [\"não\", \"sim\"])\n",
    "grafico = graphviz.Source(dot_data)\n",
    "grafico"
   ]
  },
  {
   "cell_type": "code",
   "execution_count": 25,
   "id": "c2a1852e",
   "metadata": {},
   "outputs": [
    {
     "name": "stdout",
     "output_type": "stream",
     "text": [
      "[[ 853  197]\n",
      " [ 321 1129]]\n",
      "Verdadeiros negativos: 853\n",
      "Falsos positivos: 197\n",
      "Falsos negativos: 321\n",
      "Verdadeiros positivos: 1129\n"
     ]
    }
   ],
   "source": [
    "from sklearn.metrics import confusion_matrix, ConfusionMatrixDisplay\n",
    "from sklearn.metrics import classification_report, accuracy_score, f1_score, precision_score, recall_score\n",
    "\n",
    "decision_tree_confusion = confusion_matrix(y_true=teste_y, y_pred=decision_tree_previsoes, labels=[0, 1])\n",
    "print(decision_tree_confusion)\n",
    "tn, fp, fn, tp = decision_tree_confusion.ravel()\n",
    "print(f\"Verdadeiros negativos: {tn}\")\n",
    "print(f\"Falsos positivos: {fp}\")\n",
    "print(f\"Falsos negativos: {fn}\")\n",
    "print(f\"Verdadeiros positivos: {tp}\")"
   ]
  },
  {
   "cell_type": "code",
   "execution_count": 26,
   "id": "ab49eab0",
   "metadata": {},
   "outputs": [
    {
     "data": {
      "image/png": "[encoded data removed]",
      "text/plain": [
       "<Figure size 640x480 with 2 Axes>"
      ]
     },
     "metadata": {},
     "output_type": "display_data"
    }
   ],
   "source": [
    "import numpy as np\n",
    "import matplotlib.pyplot as plt\n",
    "import seaborn as sns\n",
    "# Geração dos rótulos personalizados\n",
    "group_names = [\n",
    "    f\"True Negative: {tn}\",  f\"False Positive: {fp}\",\n",
    "    f\"False Negative: {fn}\", f\"True Positive: {tp}\"\n",
    "]\n",
    "labels = np.asarray(group_names).reshape(2, 2)\n",
    "\n",
    "# Plotando com seaborn\n",
    "sns.heatmap(decision_tree_confusion,\n",
    "            annot=labels, # Adiciona os rótulos personalizados\n",
    "            # annot = True # Adiciona os valores reais\n",
    "            fmt='', # Formato vazio para não adicionar formatação extra\n",
    "            cmap='Blues', # Mapa de cores\n",
    "            # cbar=False, # Remove a barra de cores\n",
    "            xticklabels=[\"0\", \"1\"],\n",
    "            yticklabels=[\"0\", \"1\"])\n",
    "# Títulos dos eixos\n",
    "plt.xlabel('Predicted label')\n",
    "plt.ylabel('True label')\n",
    "plt.title('confusion matrix (TP, FP, FN, TN)')\n",
    "plt.show()"
   ]
  },
  {
   "cell_type": "code",
   "execution_count": 27,
   "id": "8842f4b4",
   "metadata": {},
   "outputs": [
    {
     "name": "stdout",
     "output_type": "stream",
     "text": [
      "AUC manual: 0.87728604\n"
     ]
    },
    {
     "data": {
      "image/png": "[encoded data removed]",
      "text/plain": [
       "<Figure size 640x480 with 1 Axes>"
      ]
     },
     "metadata": {},
     "output_type": "display_data"
    }
   ],
   "source": [
    "from sklearn.metrics import roc_auc_score, roc_curve, auc\n",
    "from sklearn.metrics import RocCurveDisplay\n",
    "\n",
    "\n",
    "decision_tree_scores = decision_tree_modelo.predict_proba(raw_teste_x)\n",
    "\n",
    "# Calcular curva ROC\n",
    "fpr, tpr, thresholds = roc_curve(y_true = teste_y, y_score=decision_tree_scores[:,1])\n",
    "decision_tree_roc_auc_manual = auc(x = fpr, y = tpr)\n",
    "print(f\"AUC manual: {decision_tree_roc_auc_manual:.8f}\")\n",
    "\n",
    "# Plotar curva ROC\n",
    "plt.plot(fpr, tpr, label=f\"ROC curve (AUC = {decision_tree_roc_auc_manual:.2f})\")\n",
    "plt.plot([0, 1], [0, 1], linestyle='--', color='gray')  # linha aleatória\n",
    "plt.xlabel(\"Taxa de falso positivo (FPR)\")\n",
    "plt.ylabel(\"Taxa de verdadeiro positivo (TPR)\")\n",
    "plt.title(\"Curva ROC - LinearSVC\")\n",
    "plt.legend(loc=\"lower right\")\n",
    "plt.grid(True)\n",
    "plt.show()"
   ]
  },
  {
   "cell_type": "code",
   "execution_count": 28,
   "id": "e3cbcf07",
   "metadata": {},
   "outputs": [
    {
     "name": "stdout",
     "output_type": "stream",
     "text": [
      "AUC direto: 0.87728604\n"
     ]
    }
   ],
   "source": [
    "# AUC direto\n",
    "decision_tree_auc_direto = roc_auc_score(y_true = teste_y, y_score = decision_tree_scores[:,1])\n",
    "print(f\"AUC direto: {decision_tree_auc_direto:.8f}\")"
   ]
  }
 ],
 "metadata": {
  "kernelspec": {
   "display_name": "mlclassifysimple-g5DC7D5t-py3.11",
   "language": "python",
   "name": "python3"
  },
  "language_info": {
   "codemirror_mode": {
    "name": "ipython",
    "version": 3
   },
   "file_extension": ".py",
   "mimetype": "text/x-python",
   "name": "python",
   "nbconvert_exporter": "python",
   "pygments_lexer": "ipython3",
   "version": "3.11.0"
  }
 },
 "nbformat": 4,
 "nbformat_minor": 5
}
